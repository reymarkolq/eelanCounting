{
 "cells": [
  {
   "cell_type": "code",
   "execution_count": null,
   "id": "7af20dd9",
   "metadata": {},
   "outputs": [],
   "source": [
    "import os\n",
    "from tensorflow.keras.preprocessing import image\n",
    "from PIL import image\n",
    "import numpy as np\n",
    "import tensorflow as tf\n",
    "import cv2"
   ]
  },
  {
   "cell_type": "code",
   "execution_count": null,
   "id": "322e3f61",
   "metadata": {},
   "outputs": [],
   "source": [
    "#get the list of categories\n",
    "\n",
    "categories - os.listdir(\"\")\n",
    "categories.sort()\n",
    "print(categories)"
   ]
  },
  {
   "cell_type": "code",
   "execution_count": null,
   "id": "a7c2365c",
   "metadata": {},
   "outputs": [],
   "source": [
    "#load the saved model\n",
    "\n",
    "modelSavePath = \"C:/Users/reymarkoliquino/OneDrive/Desktop/eeldiseases_dataset_train_for_model/EelV3.h5\"\n",
    "model = tf.keras.models.load_model(modelSavedPath)"
   ]
  },
  {
   "cell_type": "code",
   "execution_count": null,
   "id": "287deec7",
   "metadata": {},
   "outputs": [],
   "source": [
    "#predict the image\n",
    "\n",
    "def classify_image(imageFile):\n",
    "    x=[]\n",
    "    \n",
    "    img = Image.open(imageFile)\n",
    "    img.load()\n",
    "    img = img.resize((320,320), Image.ANTIALIAS)\n",
    "    \n",
    "    x = image.img_to_array(img)\n",
    "    x = np.expand_dims(x, axis=0)\n",
    "    \n",
    "    print(x.shape)\n",
    "    pred = model.predict(x)\n",
    "    print(pred)"
   ]
  },
  {
   "cell_type": "code",
   "execution_count": null,
   "id": "640e93e1",
   "metadata": {},
   "outputs": [],
   "source": [
    "#get the higest prediction value\n",
    "categoryValue = np.argmax(pred, axis=1)\n",
    "categoryValue = categoryValue[0]\n",
    "\n",
    "print(categoryValue)\n",
    "\n",
    "result = categories[categoryValue]\n",
    "\n",
    "return result\n",
    "\n",
    "\n",
    "img_path = \"\"\n",
    "resultText = classify_image(img_path)"
   ]
  }
 ],
 "metadata": {
  "kernelspec": {
   "display_name": "Python 3 (ipykernel)",
   "language": "python",
   "name": "python3"
  },
  "language_info": {
   "codemirror_mode": {
    "name": "ipython",
    "version": 3
   },
   "file_extension": ".py",
   "mimetype": "text/x-python",
   "name": "python",
   "nbconvert_exporter": "python",
   "pygments_lexer": "ipython3",
   "version": "3.9.13"
  }
 },
 "nbformat": 4,
 "nbformat_minor": 5
}
